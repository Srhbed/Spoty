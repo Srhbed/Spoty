{
 "cells": [
  {
   "cell_type": "code",
   "execution_count": 1,
   "metadata": {},
   "outputs": [],
   "source": [
    "import csv\n",
    "import pandas as pd\n",
    "import spotipy \n",
    "from spotipy.oauth2 import SpotifyOAuth, SpotifyClientCredentials \n",
    "import os\n",
    "from dotenv import load_dotenv\n",
    "import time\n",
    "\n",
    "import requests\n",
    "import base64\n",
    "import json\n",
    "from secrets import *\n",
    "\n",
    "from pprint import pprint"
   ]
  },
  {
   "cell_type": "code",
   "execution_count": 2,
   "metadata": {},
   "outputs": [],
   "source": [
    "load_dotenv()\n",
    "\n",
    "client_id = os.getenv(\"CLIENT_ID\")\n",
    "client_secret = os.getenv(\"CLIENT_SECRET\")\n"
   ]
  },
  {
   "cell_type": "code",
   "execution_count": 3,
   "metadata": {},
   "outputs": [],
   "source": [
    "# Configurer l'authentication\n",
    "client_credentials_manager = SpotifyClientCredentials(client_id=client_id, client_secret=client_secret)\n",
    "sp = spotipy.Spotify(client_credentials_manager=client_credentials_manager)\n",
    "\n",
    "seeds = sp.recommendation_genre_seeds()\n",
    "\n",
    "# Liste des fonctionnalités audio à récupérer pour chaque piste\n",
    "features = ['nom', 'artistes', 'année', 'popularité', 'durée_ms', 'tonalité', 'mode', 'signature_temps', 'acoustique', 'dansabilité', 'énergie', 'instrumentalité', 'vivacité', 'loudness', 'parlant', 'valence', 'tempo', 'album']\n",
    "\n",
    "# Créer un nouveau fichier CSV et écrire les en-têtes de colonnes\n",
    "with open('audio_features_2022.csv', 'w', newline='', encoding='utf-8') as file:\n",
    "    writer = csv.DictWriter(file, fieldnames=features)\n",
    "    writer.writeheader()\n",
    "\n",
    "    # Boucler à travers les pistes et récupérer les fonctionnalités audio\n",
    "    offset = 0\n",
    "    limit = 50\n",
    "    total = None\n",
    "    for s in seeds['genres']:\n",
    "            for i in range(0,1000,50):\n",
    "                track_results = sp.search(q=f'genre:{s} year:2022' , type='track', offset=i, limit=50) \n",
    "                while total is None or offset < total:\n",
    "                    # Rechercher des pistes avec l'année 2022 dans le titre de la piste\n",
    "                    results = sp.search(q=f'genre:{s} year:2022' , type='track', limit=limit, offset=offset)\n",
    "\n",
    "                    if total is None:\n",
    "                        total = results['tracks']['total']\n",
    "\n",
    "                for track in results['tracks']['items']:\n",
    "                    track_id = track['id']\n",
    "                    audio_features = sp.audio_features(track_id)[0] if sp.audio_features(track_id) else None\n",
    "                    \n",
    "                    # Ignorer la piste si les fonctionnalités audio ne peuvent pas être récupérées\n",
    "                    if audio_features is None:\n",
    "                        continue\n",
    "                    \n",
    "                    # Formater le nom de l'artiste comme une chaîne de caractères\n",
    "                    artistes = ', '.join([artiste['name'] for artiste in track['artists']])\n",
    "                    \n",
    "                    # Créer un dictionnaire avec les fonctionnalités audio\n",
    "                    track_features = {\n",
    "                        'nom': track['name'],\n",
    "                        'artistes': artistes,\n",
    "                        'année': track['album']['release_date'][:4], # Extraire l'année de la date de sortie de l'album\n",
    "                        'popularité': track['popularity'],\n",
    "                        'durée_ms': audio_features['duration_ms'],\n",
    "                        'tonalité': audio_features['key'],\n",
    "                        'mode': audio_features['mode'],\n",
    "                        'signature_temps': audio_features['time_signature'],\n",
    "                        'acoustique': audio_features['acousticness'],\n",
    "                        'dansabilité': audio_features['danceability'],\n",
    "                        'énergie': audio_features['energy'],\n",
    "                        'instrumentalité': audio_features['instrumentalness'],\n",
    "                        'vivacité': audio_features['liveness'],\n",
    "                        'loudness': audio_features['loudness'],\n",
    "                        'parlant': audio_features['speechiness'],\n",
    "                        'valence': audio_features['valence'],\n",
    "                        'tempo': audio_features['tempo'],\n",
    "                        'album': track['album']['name'] # Ajouter le nom de l'album à la colonne correspondante\n",
    "                    }\n",
    "                    \n",
    "                    # Écrire les fonctionnalités audio dans le fichier CSV\n",
    "                    writer.writerow(track_features)\n",
    "\n",
    "                offset += limit"
   ]
  },
  {
   "cell_type": "code",
   "execution_count": null,
   "metadata": {},
   "outputs": [
    {
     "ename": "NameError",
     "evalue": "name 'offset' is not defined",
     "output_type": "error",
     "traceback": [
      "\u001b[0;31m---------------------------------------------------------------------------\u001b[0m",
      "\u001b[0;31mNameError\u001b[0m                                 Traceback (most recent call last)",
      "Cell \u001b[0;32mIn[4], line 30\u001b[0m\n\u001b[1;32m     23\u001b[0m token \u001b[39m=\u001b[39m r\u001b[39m.\u001b[39mjson()[\u001b[39m'\u001b[39m\u001b[39maccess_token\u001b[39m\u001b[39m'\u001b[39m]\n\u001b[1;32m     25\u001b[0m \u001b[39m# Step 2 - Use Access Token to call playlist endpoint\u001b[39;00m\n\u001b[1;32m     26\u001b[0m data \u001b[39m=\u001b[39m {\n\u001b[1;32m     27\u001b[0m     \u001b[39m'\u001b[39m\u001b[39mq\u001b[39m\u001b[39m'\u001b[39m : \u001b[39m'\u001b[39m\u001b[39martist:iam \u001b[39m\u001b[39m'\u001b[39m,\n\u001b[1;32m     28\u001b[0m     \u001b[39m'\u001b[39m\u001b[39mtype\u001b[39m\u001b[39m'\u001b[39m: \u001b[39m'\u001b[39m\u001b[39mtrack\u001b[39m\u001b[39m'\u001b[39m,\n\u001b[1;32m     29\u001b[0m     \u001b[39m'\u001b[39m\u001b[39mlimit\u001b[39m\u001b[39m'\u001b[39m: \u001b[39m'\u001b[39m\u001b[39m50\u001b[39m\u001b[39m'\u001b[39m,\n\u001b[0;32m---> 30\u001b[0m     \u001b[39m'\u001b[39m\u001b[39moffset\u001b[39m\u001b[39m'\u001b[39m: \u001b[39mstr\u001b[39m(offset),\n\u001b[1;32m     31\u001b[0m     \u001b[39m'\u001b[39m\u001b[39mmarket\u001b[39m\u001b[39m'\u001b[39m :\u001b[39m'\u001b[39m\u001b[39mUS\u001b[39m\u001b[39m'\u001b[39m\n\u001b[1;32m     32\u001b[0m }\n\u001b[1;32m     34\u001b[0m track_url \u001b[39m=\u001b[39m \u001b[39mf\u001b[39m\u001b[39m\"\u001b[39m\u001b[39mhttps://api.spotify.com/v1/search\u001b[39m\u001b[39m\"\u001b[39m\n\u001b[1;32m     35\u001b[0m headers \u001b[39m=\u001b[39m {\n\u001b[1;32m     36\u001b[0m     \u001b[39m\"\u001b[39m\u001b[39mAuthorization\u001b[39m\u001b[39m\"\u001b[39m: \u001b[39m\"\u001b[39m\u001b[39mBearer \u001b[39m\u001b[39m\"\u001b[39m \u001b[39m+\u001b[39m token\n\u001b[1;32m     37\u001b[0m }\n",
      "\u001b[0;31mNameError\u001b[0m: name 'offset' is not defined"
     ]
    }
   ],
   "source": [
    "\n",
    "\n",
    "\n",
    "\n",
    "# # Step 2 - Use Access Token to call playlist endpoint\n",
    "# data = {\n",
    "#     'q' : 'artist:iam ',\n",
    "#     'type': 'track',\n",
    "#     'limit': '50',\n",
    "#     'offset': str(offset),\n",
    "#     'market' :'US'\n",
    "# }\n",
    "\n",
    "# track_url = f\"https://api.spotify.com/v1/search\"\n",
    "# headers = {\n",
    "#     \"Authorization\": \"Bearer \" + token\n",
    "# }\n",
    "\n",
    "# res = requests.get(url=track_url, headers=headers, data=data)\n",
    "\n",
    "# print(json.dumps(res.json(), indent=2))"
   ]
  },
  {
   "cell_type": "code",
   "execution_count": null,
   "metadata": {},
   "outputs": [
    {
     "name": "stdout",
     "output_type": "stream",
     "text": [
      "'2KDvsfshgJR5Gdfds4SDuJ'\n"
     ]
    }
   ],
   "source": [
    "\n",
    "# Step 1 - Authorization \n",
    "url = \"https://accounts.spotify.com/api/token\"\n",
    "headers = {}\n",
    "data = {}\n",
    "\n",
    "# Encode as Base64\n",
    "message = f\"{client_id}:{client_secret}\"\n",
    "messageBytes = message.encode('ascii')\n",
    "base64Bytes = base64.b64encode(messageBytes)\n",
    "base64Message = base64Bytes.decode('ascii')\n",
    "\n",
    "\n",
    "headers['Authorization'] = f\"Basic {base64Message}\"\n",
    "data['grant_type'] = \"client_credentials\"\n",
    "\n",
    "r = requests.post(url, headers=headers, data=data)\n",
    "\n",
    "token = r.json()['access_token']\n",
    "\n",
    "\n",
    "search_url = f\"https://api.spotify.com/v1/search\"\n",
    "\n",
    "headers = {\n",
    "\"Authorization\": \"Bearer \" + token\n",
    "}\n",
    "\n",
    "param = {\n",
    "'q' : 'artist:jul track:mon bijou',\n",
    "'type': 'track',\n",
    "'limit': '10',\n",
    "'market' :'FR'\n",
    "}\n",
    "\n",
    "result = requests.get(url=search_url, headers=headers, params=param)\n",
    "track_items = result.json()['tracks']['items']\n",
    "\n",
    "pprint(track_items[1]['id'])\n"
   ]
  },
  {
   "cell_type": "code",
   "execution_count": null,
   "metadata": {},
   "outputs": [
    {
     "name": "stdout",
     "output_type": "stream",
     "text": [
      "{'acousticness': 0.183,\n",
      " 'analysis_url': 'https://api.spotify.com/v1/audio-analysis/127LVxx0WkxbCcZqp2LAEY',\n",
      " 'danceability': 0.915,\n",
      " 'duration_ms': 179781,\n",
      " 'energy': 0.757,\n",
      " 'id': '127LVxx0WkxbCcZqp2LAEY',\n",
      " 'instrumentalness': 0.00026,\n",
      " 'key': 0,\n",
      " 'liveness': 0.093,\n",
      " 'loudness': -8.004,\n",
      " 'mode': 0,\n",
      " 'speechiness': 0.143,\n",
      " 'tempo': 125.026,\n",
      " 'time_signature': 4,\n",
      " 'track_href': 'https://api.spotify.com/v1/tracks/127LVxx0WkxbCcZqp2LAEY',\n",
      " 'type': 'audio_features',\n",
      " 'uri': 'spotify:track:127LVxx0WkxbCcZqp2LAEY',\n",
      " 'valence': 0.357}\n"
     ]
    }
   ],
   "source": [
    "\n",
    "headers = {\n",
    "\"Authorization\": \"Bearer \" + token\n",
    "}\n",
    "id_1=track_items[0]['id']\n",
    "\n",
    "features_url = f\"https://api.spotify.com/v1/audio-features/{id_1}\"\n",
    "data = {'id' : id_1}\n",
    "resultat = requests.get(url=features_url, headers=headers, params=data)\n",
    "features_items = resultat.json()\n",
    "\n",
    "pprint(features_items)\n"
   ]
  }
 ],
 "metadata": {
  "kernelspec": {
   "display_name": "dt_env",
   "language": "python",
   "name": "python3"
  },
  "language_info": {
   "codemirror_mode": {
    "name": "ipython",
    "version": 3
   },
   "file_extension": ".py",
   "mimetype": "text/x-python",
   "name": "python",
   "nbconvert_exporter": "python",
   "pygments_lexer": "ipython3",
   "version": "3.9.15"
  },
  "orig_nbformat": 4,
  "vscode": {
   "interpreter": {
    "hash": "574e2ed95378eed8b520b4095c37c02073032c9c1ddd2478dd84a572888a6f90"
   }
  }
 },
 "nbformat": 4,
 "nbformat_minor": 2
}
